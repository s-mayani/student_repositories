{
 "cells": [
  {
   "cell_type": "code",
   "execution_count": null,
   "id": "89f25588-7a17-4fa4-9fd1-60efe1cec1fd",
   "metadata": {
    "tags": []
   },
   "outputs": [],
   "source": [
    "import os\n",
    "import sys\n",
    "import typing\n",
    "\n",
    "import matplotlib.pyplot as plt\n",
    "import pandas as pd\n",
    "import seaborn as sns\n",
    "\n",
    "# Load plotting style\n",
    "sys.path.append('/home/tobiac/polybox/studium/mscThesis/personal_repo/data_visualization/src')\n",
    "from mscPlotting import set_plotting_environment, line_properties_generator, SizeParams, prepare_emittance_plots\n",
    "set_plotting_environment()\n",
    "\n",
    "# Lineplot Kwargs specific to this Notebook\n",
    "lineplot_kwargs_dict = {\n",
    "                   'linewidth':(0.9),\n",
    "                   'color' : None,\n",
    "                   'markers':False,\n",
    "                   'markersize':7,\n",
    "                   'markevery':6e-2}\n",
    "\n",
    "# Load Notebook specific functions\n",
    "from langevinStudyTools import scale_emittance, \\\n",
    "                               scale_p3m, \\\n",
    "                               load_p3m_data, \\\n",
    "                               scale_langevin, \\\n",
    "                               load_langevin_data, \\\n",
    "                               load_array_langevin_data, \\\n",
    "                               clip_time_df, \\\n",
    "                               clip_time_dict\n",
    "\n",
    "figure_dir = '/home/tobiac/polybox/studium/mscThesis/personal_repo/report/figures/tmp'"
   ]
  },
  {
   "cell_type": "markdown",
   "id": "8c8f964d-587a-4a17-b980-827d4c173d80",
   "metadata": {
    "tags": []
   },
   "source": [
    "### Load all data of Langevin runs and Ulmer's P3M"
   ]
  },
  {
   "cell_type": "code",
   "execution_count": null,
   "id": "8eac1e84-8b86-489c-a977-646564cd9aea",
   "metadata": {
    "tags": []
   },
   "outputs": [],
   "source": [
    "p3m_dict = load_p3m_data()\n",
    "p3m_dict = scale_emittance(p3m_dict)"
   ]
  },
  {
   "cell_type": "code",
   "execution_count": null,
   "id": "d1d5b8b5-057b-4e17-91c8-af6a4f9ff98c",
   "metadata": {
    "tags": []
   },
   "outputs": [],
   "source": [
    "# langevin_dict = dict(load_langevin_data(), **load_array_langevin_data('langevin_data/focus_force'))\n",
    "langevin_root_dir = 'langevin_data/submission_data'\n",
    "langevin_dict = dict(load_langevin_data(langevin_root_dir))\n",
    "langevin_dict = scale_emittance(langevin_dict)\n",
    "\n",
    "# langevin_dict = scale_langevin(langevin_dict)"
   ]
  },
  {
   "cell_type": "markdown",
   "id": "8bff7a97-3f94-40a9-a5c3-18aa6a3a7f9d",
   "metadata": {},
   "source": [
    "### Clip time to certain range"
   ]
  },
  {
   "cell_type": "code",
   "execution_count": null,
   "id": "1a52ec3d-cb53-48e7-816f-300c09d8a497",
   "metadata": {
    "tags": []
   },
   "outputs": [],
   "source": [
    "t_max = 2.156e-10 # == 5 plasma periods\n",
    "# t_max = 0.3e-10\n",
    "langevin_dict = clip_time_dict(langevin_dict, t_max=t_max)\n",
    "p3m_dict = clip_time_dict(p3m_dict, t_max=t_max)\n",
    "\n",
    "print(p3m_dict['rc=0.0=avgEF'].columns)"
   ]
  },
  {
   "cell_type": "markdown",
   "id": "4f29005d-e988-4469-9a42-6465790e2592",
   "metadata": {
    "tags": []
   },
   "source": [
    "### Exploration of different statistics"
   ]
  },
  {
   "cell_type": "code",
   "execution_count": null,
   "id": "19b47c7c-80c5-4cd8-99a6-b093788330e5",
   "metadata": {
    "tags": []
   },
   "outputs": [],
   "source": [
    "first_col = 1\n",
    "last_col = -1\n",
    "\n",
    "# key_name = 'NepsX'\n",
    "# key_name = 'avgEfield_particle_x'\n",
    "# key_name = 'rvrmsX'\n",
    "# key_name = 'rmeanX'\n",
    "# key_name = 'vrmsX'\n",
    "# key_name = 'vmeanX'\n",
    "# key_name = 'lorentz_max'\n",
    "# key_name = 'lorentz_avg'\n",
    "# key_name = 'avgEfield_particle_x'\n",
    "# key_name = 'Tx'\n",
    "\n",
    "x_axis_label = 'Plasma Period $\\\\tau_p$'\n",
    "y_axis_label = '$\\\\varepsilon_{x,n}$ $[\\\\textnormal{nm}]$'\n",
    "# y_axis_label = '$\\\\textnormal{Normalized x-emittance }[m]$'\n",
    "# y_axis_label = '$\\mathregular{rv-rms_X} [-]$'\n",
    "# y_axis_label = '$\\\\langle v_x \\\\rangle [m/s]$'\n",
    "# y_axis_label = '$\\\\langle r_x \\\\rangle [cm]$'\n",
    "# y_axis_label = 'X-RMS'\n",
    "# y_axis_label = '$\\max_{i} \\gamma\\ [$-$]$'\n",
    "# y_axis_label = '$\\\\langle | E_x | \\\\rangle\\ [\\\\frac{cm \\\\cdot m_e}{s^2 \\\\cdot q_e}]$'"
   ]
  },
  {
   "cell_type": "code",
   "execution_count": null,
   "id": "ff4aceb4-dbd5-444a-a8c0-deb39a4ca3de",
   "metadata": {
    "tags": []
   },
   "outputs": [],
   "source": [
    "fig, ax = plt.subplots()\n",
    "\n",
    "# Lineplot Kwargs\n",
    "lineplot_kwargs_dict['ax'] = ax\n",
    "lineplot_kwargs_dict['x'] = 'tau_p'\n",
    "lineplot_kwargs_dict['y'] = key_name\n",
    "\n",
    "lineplot_kwargs = line_properties_generator(lineplot_kwargs_dict)\n",
    "size_params = SizeParams()\n",
    "\n",
    "ax = sns.lineplot(data=langevin_dict['P3M_r256'][first_col:last_col], label=r'Langevin-I, [$256^3$]', **next(lineplot_kwargs))\n",
    "ax = sns.lineplot(data=langevin_dict['P3M_Fd_r256_v64_vico'][first_col:last_col], label=r'Langevin-I + $\\boldsymbol F_d$ [$256^3$, $64^3$]', **next(lineplot_kwargs))\n",
    "\n",
    "# Have to manipulate kwargs before plotting\n",
    "kwargs_instance = next(lineplot_kwargs)\n",
    "kwargs_instance['color'] = 'grey'\n",
    "ax = sns.lineplot(data=p3m_dict['rc=0.0=size256'][first_col:last_col], label='P3M, Ulmer [$256^3$, -], $r_c=0.0$', linestyle='dotted', **kwargs_instance)\n",
    "\n",
    "# ax.axhline(0.491, linestyle='dashed', color='grey')\n",
    "# ax.axvline(langevin_dict['dumpFields_r64_v32_HOCKNEY'][first_col:last_col]['tau_p'][99], linestyle='dashed', color='grey')\n",
    "\n",
    "# ax.set_xlabel(x_axis_label)\n",
    "# ax.set_ylabel(y_axis_label)\n",
    "# ax.legend(loc='upper center', bbox_to_anchor=(0.5, -0.15))\n",
    "# ax.legend(loc='center left', bbox_to_anchor=(1, 0.5))\n",
    "# ax.set_title('Cold Sphere Emittance (raw unscaled data)')\n",
    "# ax.set_title('Cold Sphere Normalized Emittance')\n",
    "\n",
    "# ax.set_yscale('log')\n",
    "# ax.get_legend().remove()\n",
    "\n",
    "prepare_emittance_plots(ax, x_axis_label, y_axis_label, plot_limit=False)\n",
    "\n",
    "# fig.savefig(f'../figures/langevin_meetings/0620/emittance.pdf', bbox_inches = \"tight\")\n",
    "# fig.savefig(figure_dir+f'/shiftedOrigin/rmeanX.pdf', bbox_inches = \"tight\"),"
   ]
  },
  {
   "cell_type": "markdown",
   "id": "b3e5dbf2-b9d6-4a50-8a42-e16c45314525",
   "metadata": {},
   "source": [
    "## Plots present in submission"
   ]
  },
  {
   "cell_type": "markdown",
   "id": "1f17c768-ea2b-4af6-ad73-34a50f8c4545",
   "metadata": {
    "tags": []
   },
   "source": [
    "### P3M-reference Emittance"
   ]
  },
  {
   "cell_type": "code",
   "execution_count": null,
   "id": "72032bd9-8446-4640-805b-8af0f6f01125",
   "metadata": {
    "tags": []
   },
   "outputs": [],
   "source": [
    "first_col = 1\n",
    "last_col = -1\n",
    "\n",
    "key_name = 'NepsX'\n",
    "\n",
    "x_axis_label = 'Plasma Period $\\\\tau_p$'\n",
    "y_axis_label = '$\\\\varepsilon_{x,n}$ $[\\\\textnormal{nm}]$'\n",
    "\n",
    "fig, ax = plt.subplots()\n",
    "\n",
    "# Lineplot Kwargs\n",
    "lineplot_kwargs_dict['ax'] = ax\n",
    "lineplot_kwargs_dict['x'] = 'tau_p'\n",
    "lineplot_kwargs_dict['y'] = key_name\n",
    "\n",
    "lineplot_kwargs = line_properties_generator(lineplot_kwargs_dict)\n",
    "size_params = SizeParams()\n",
    "\n",
    "ax = sns.lineplot(data=p3m_dict['rc=0.0'][first_col:last_col], label='$r_c=0.0$', **next(lineplot_kwargs))\n",
    "ax = sns.lineplot(data=p3m_dict['rc=0.000039'][first_col:last_col], label='$r_c=1h$', **next(lineplot_kwargs))\n",
    "ax = sns.lineplot(data=p3m_dict['rc=0.000078'][first_col:last_col], label='$r_c=2h$', **next(lineplot_kwargs))\n",
    "ax = sns.lineplot(data=p3m_dict['rc=0.000117'][first_col:last_col], label='$r_c=3h$', **next(lineplot_kwargs))\n",
    "ax = sns.lineplot(data=p3m_dict['rc=0.000156'][first_col:last_col], label='$r_c=4h$', **next(lineplot_kwargs))\n",
    "# ax = sns.lineplot(data=p3m_dict['rc=0.000195'][first_col:last_col], label='$r_c=5h$', **next(lineplot_kwargs))\n",
    "# ax = sns.lineplot(data=p3m_dict['rc=0.000234'][first_col:last_col], label='$r_c=0.000234$', **next(lineplot_kwargs))\n",
    "# ax = sns.lineplot(data=p3m_dict['rc=0.000273'][first_col:last_col], label='$r_c=0.000273$', **next(lineplot_kwargs))\n",
    "ax = sns.lineplot(data=p3m_dict['rc=0.0003125'][first_col:last_col], label='$r_c=8h$', **next(lineplot_kwargs))\n",
    "\n",
    "prepare_emittance_plots(ax, x_axis_label, y_axis_label)\n",
    "\n",
    "fig.savefig(figure_dir+f'/emittance_p3m.pdf', bbox_inches = \"tight\"),"
   ]
  },
  {
   "cell_type": "markdown",
   "id": "386d7b7f-1da0-49ba-8745-4fc7afb8af91",
   "metadata": {},
   "source": [
    "### Lorentz Factor Test"
   ]
  },
  {
   "cell_type": "code",
   "execution_count": null,
   "id": "8075fff5-35ed-49ac-896a-6aa7e31a2cec",
   "metadata": {
    "tags": []
   },
   "outputs": [],
   "source": [
    "fig, ax = plt.subplots()\n",
    "\n",
    "first_col = 0\n",
    "last_col = -1\n",
    "key_name = 'lorentz_avg'\n",
    "\n",
    "# Lineplot Kwargs\n",
    "lineplot_kwargs_dict['ax'] = ax\n",
    "lineplot_kwargs_dict['x'] = 'tau_p'\n",
    "lineplot_kwargs_dict['y'] = key_name\n",
    "\n",
    "lineplot_kwargs = line_properties_generator(lineplot_kwargs_dict)\n",
    "size_params = SizeParams()\n",
    "\n",
    "x_axis_label = 'Plasma Period $\\\\tau_p$'\n",
    "y_axis_label = '$\\langle \\gamma \\\\rangle\\ [$-$]$'\n",
    "\n",
    "ax = sns.lineplot(data=langevin_dict['baseline_r256'][first_col:last_col], label='$\\gamma$', **next(lineplot_kwargs))\n",
    "\n",
    "prepare_emittance_plots(ax, x_axis_label, y_axis_label, plot_limit=False)\n",
    "\n",
    "ax.get_legend().remove()\n",
    "\n",
    "# fig.savefig(figure_dir+f'/gamma_test.pdf', bbox_inches = \"tight\"),"
   ]
  },
  {
   "cell_type": "markdown",
   "id": "4da22414-81e3-4164-8e2a-4b59af16d0fb",
   "metadata": {},
   "source": [
    "### Meshsize Test"
   ]
  },
  {
   "cell_type": "code",
   "execution_count": null,
   "id": "a6ca8721-a540-4044-a900-8b53bba376ae",
   "metadata": {
    "tags": []
   },
   "outputs": [],
   "source": [
    "first_col = 1\n",
    "last_col = -1\n",
    "\n",
    "key_name = 'NepsX'\n",
    "\n",
    "x_axis_label = 'Plasma Period $\\\\tau_p$'\n",
    "y_axis_label = '$\\\\varepsilon_{x,n}$ $[\\\\textnormal{nm}]$'\n",
    "\n",
    "fig, ax = plt.subplots()\n",
    "\n",
    "# Lineplot Kwargs\n",
    "lineplot_kwargs_dict['ax'] = ax\n",
    "lineplot_kwargs_dict['x'] = 'tau_p'\n",
    "lineplot_kwargs_dict['y'] = key_name\n",
    "\n",
    "lineplot_kwargs = line_properties_generator(lineplot_kwargs_dict)\n",
    "size_params = SizeParams()\n",
    "\n",
    "ax = sns.lineplot(data=p3m_dict['rc=0.0=64'][first_col:last_col], label='Ulmer, $r_c=0$, [$64^3$]', **next(lineplot_kwargs))\n",
    "ax = sns.lineplot(data=p3m_dict['rc=0.0'][first_col:last_col], label='Ulmer, $r_c=0$, [$256^3$]', **next(lineplot_kwargs))\n",
    "ax = sns.lineplot(data=langevin_dict['meshsize_r64'][first_col:last_col], label=r'Langevin-II, $\\nabla_{\\boldsymbol r}^{\\text{sp}}$, [$64^3$]', **next(lineplot_kwargs))\n",
    "ax = sns.lineplot(data=langevin_dict['meshsize_r128'][first_col:last_col], label=r'Langevin-II, $\\nabla_{\\boldsymbol r}^{\\text{sp}}$, [$128^3$]', **next(lineplot_kwargs))\n",
    "ax = sns.lineplot(data=langevin_dict['meshsize_r256'][first_col:last_col], label=r'Langevin-II, $\\nabla_{\\boldsymbol r}^{\\text{sp}}$, [$256^3$]', **next(lineplot_kwargs))\n",
    "\n",
    "prepare_emittance_plots(ax, x_axis_label, y_axis_label, legend_loc='top', bbox_to_anchor=(0.5, 1.55))\n",
    "\n",
    "ax.set_ylabel('')\n",
    "\n",
    "fig.savefig(figure_dir+f'/meshsize_test.pdf', bbox_inches = \"tight\"),"
   ]
  },
  {
   "cell_type": "markdown",
   "id": "b2aae624-413f-4a0e-9403-ac8b5daf7400",
   "metadata": {
    "tags": []
   },
   "source": [
    "### E-Field Computation Test (FD grad or spectral grad)"
   ]
  },
  {
   "cell_type": "code",
   "execution_count": null,
   "id": "7bb62c35-e492-4c48-ba31-f780f8f41880",
   "metadata": {
    "tags": []
   },
   "outputs": [],
   "source": [
    "first_col = 1\n",
    "last_col = -1\n",
    "\n",
    "key_name = 'NepsX'\n",
    "\n",
    "x_axis_label = 'Plasma Period $\\\\tau_p$'\n",
    "y_axis_label = '$\\\\varepsilon_{x,n}$ $[\\\\textnormal{nm}]$'\n",
    "\n",
    "fig, ax = plt.subplots()\n",
    "\n",
    "# Lineplot Kwargs\n",
    "lineplot_kwargs_dict['ax'] = ax\n",
    "lineplot_kwargs_dict['x'] = 'tau_p'\n",
    "lineplot_kwargs_dict['y'] = key_name\n",
    "\n",
    "lineplot_kwargs = line_properties_generator(lineplot_kwargs_dict)\n",
    "size_params = SizeParams()\n",
    "\n",
    "ax = sns.lineplot(data=p3m_dict['rc=0.0'][first_col:last_col], label='Ulmer, $r_c=0$, [$256^3$]', **next(lineplot_kwargs))\n",
    "ax = sns.lineplot(data=langevin_dict['P3M_r256'][first_col:last_col], label=r'Langevin-I, $\\nabla_{\\boldsymbol r}^\\text{sp}$, [$256^3$]', **next(lineplot_kwargs))\n",
    "ax = sns.lineplot(data=langevin_dict['P3M_FDgrad_r256'][first_col:last_col], label=r'Langevin-I, $\\nabla_{\\boldsymbol r}^{\\text{fd}}$, [$256^3$]', **next(lineplot_kwargs))\n",
    "ax = sns.lineplot(data=langevin_dict['r256'][first_col:last_col], label=r'Langevin-II, $\\nabla_{\\boldsymbol r}^\\text{sp}$, [$256^3$]', **next(lineplot_kwargs))\n",
    "ax = sns.lineplot(data=langevin_dict['FDgrad_r256'][first_col:last_col], label=r'Langevin-II, $\\nabla_{\\boldsymbol r}^\\text{fd}$, [$256^3$]', **next(lineplot_kwargs))\n",
    "\n",
    "prepare_emittance_plots(ax, x_axis_label, y_axis_label, legend_loc='top', bbox_to_anchor=(0.5, 1.55))\n",
    "\n",
    "fig.savefig(figure_dir+f'/Efield_gradient_test.pdf', bbox_inches = \"tight\")"
   ]
  },
  {
   "cell_type": "markdown",
   "id": "e8ae9adc-b5e3-414f-88b6-78423bbfd36c",
   "metadata": {},
   "source": [
    "### Efield analysis Langevin"
   ]
  },
  {
   "cell_type": "code",
   "execution_count": null,
   "id": "d1628ee4-3722-4904-887a-5ecd2d25c4ef",
   "metadata": {
    "tags": []
   },
   "outputs": [],
   "source": [
    "key_name = 'Ex_max_norm'\n",
    "fig, ax = plt.subplots()\n",
    "\n",
    "# ax = sns.lineplot(data=langevin_dict['64_negative_avgEF'], label='Langevin ($256^3$, $f_c=1.5$)', x='iteration', y='avgEfield_x', ax=ax)\n",
    "sns.lineplot(data=p3m_dict['rc=0.0=avgEF'][1:], label='P3M ($256^3$, $f_c=1.5$)', x='it', y='avgEfield_particle_x', ax=ax)\n",
    "\n",
    "ax.set_xlabel('Iteration')\n",
    "ax.set_ylabel('$\\\\langle E_x \\\\rangle \\\\  [\\\\frac{\\\\text{V}}{m}]$')\n",
    "\n",
    "ax.legend(loc='upper center', bbox_to_anchor=(0.5, -0.15))\n",
    "plt.show()\n",
    "\n",
    "# fig.savefig(f'figures/pre_ippl_meetings/1804/avgEF.pdf', bbox_inches = \"tight\"),"
   ]
  },
  {
   "cell_type": "code",
   "execution_count": null,
   "id": "6cc04f13-6e78-4fd3-80fa-44350fe9577e",
   "metadata": {
    "tags": []
   },
   "outputs": [],
   "source": [
    "(p3m_dict['rc=0.0=avgEF']['avgEfield_particle_x'].mean() / langevin_dict['avgEf_32']['avgEfield_x'][1:].mean()).mean()"
   ]
  },
  {
   "cell_type": "markdown",
   "id": "3743cad9-b30e-4d75-90be-1cd8108f564d",
   "metadata": {},
   "source": [
    "### Analysis Collisional Coefficients on solver setup as mentioned in Chapter 4.3"
   ]
  },
  {
   "cell_type": "code",
   "execution_count": null,
   "id": "9409f05e-fb25-4202-869d-3bf10dda947c",
   "metadata": {},
   "outputs": [],
   "source": [
    "first_col = 1\n",
    "last_col = -1\n",
    "\n",
    "key_name = 'NepsX'\n",
    "\n",
    "x_axis_label = 'Plasma Period $\\\\tau_p$'\n",
    "y_axis_label = '$\\\\varepsilon_{x,n}$ $[\\\\textnormal{nm}]$'\n",
    "\n",
    "fig, ax = plt.subplots()\n",
    "\n",
    "# Lineplot Kwargs\n",
    "lineplot_kwargs_dict['ax'] = ax\n",
    "lineplot_kwargs_dict['x'] = 'tau_p'\n",
    "lineplot_kwargs_dict['y'] = key_name\n",
    "\n",
    "lineplot_kwargs = line_properties_generator(lineplot_kwargs_dict)\n",
    "size_params = SizeParams()\n",
    "\n",
    "ax = sns.lineplot(data=langevin_dict['P3M_r256'][first_col:last_col], label=r'Langevin-I, [$256^3$]', **next(lineplot_kwargs))\n",
    "ax = sns.lineplot(data=langevin_dict['P3M_Fd_r256_v64_vico'][first_col:last_col], label=r'Langevin-I + $\\boldsymbol F_d$ [$256^3$, $64^3$]', **next(lineplot_kwargs))\n",
    "\n",
    "# Have to manipulate kwargs before plotting\n",
    "kwargs_instance = next(lineplot_kwargs)\n",
    "kwargs_instance['color'] = 'grey'\n",
    "ax = sns.lineplot(data=p3m_dict['rc=0.0=size256'][first_col:last_col], label='', linestyle='dotted', **kwargs_instance)\n",
    "\n",
    "\n",
    "prepare_emittance_plots(ax, x_axis_label, y_axis_label, legend_loc='top', bbox_to_anchor=(0.5, 1.35))\n",
    "\n",
    "fig.savefig(figure_dir+f'/Langevin_Fd.pdf', bbox_inches = \"tight\")"
   ]
  },
  {
   "cell_type": "markdown",
   "id": "ba08f32b-050e-412a-83b5-9ea0bec5936d",
   "metadata": {},
   "source": [
    "### Analysis collisional coefficients"
   ]
  },
  {
   "cell_type": "code",
   "execution_count": null,
   "id": "9bc6a248-34a7-4cd9-babb-5aece3c57f2b",
   "metadata": {},
   "outputs": [],
   "source": [
    "first_col = 1\n",
    "last_col = -1\n",
    "\n",
    "key_name = 'NepsX'\n",
    "\n",
    "x_axis_label = 'Plasma Period $\\\\tau_p$'\n",
    "y_axis_label = '$\\\\varepsilon_{x,n}$ $[\\\\textnormal{nm}]$'\n",
    "\n",
    "fig, ax = plt.subplots()\n",
    "\n",
    "# Lineplot Kwargs\n",
    "lineplot_kwargs_dict['ax'] = ax\n",
    "lineplot_kwargs_dict['x'] = 'tau_p'\n",
    "lineplot_kwargs_dict['y'] = key_name\n",
    "\n",
    "lineplot_kwargs = line_properties_generator(lineplot_kwargs_dict)\n",
    "size_params = SizeParams()\n",
    "\n",
    "ax = sns.lineplot(data=p3m_dict['rc=0.0'][first_col:last_col], label='Ulmer, $r_c=0$, [$256^3$]', **next(lineplot_kwargs))\n",
    "# ax = sns.lineplot(data=langevin_dict['P3M_r256'][first_col:last_col], label=r'Langevin-I, $\\nabla_{\\boldsymbol r}^\\text{sp}$, [$256^3$]', **next(lineplot_kwargs))\n",
    "# ax = sns.lineplot(data=langevin_dict['baseline_r256'][first_col:last_col], label=r'Langevin-II, $\\nabla_{\\boldsymbol r}^\\text{sp}$, [$256^3$]', **next(lineplot_kwargs))\n",
    "# ax = sns.lineplot(data=langevin_dict['P3M_Fd_r256_v64_vico'][first_col:last_col], label=r'Langevin-I + Fd, $\\nabla_{\\boldsymbol r}^\\text{sp}$, [$256^3$]', **next(lineplot_kwargs))\n",
    "ax = sns.lineplot(data=langevin_dict['P3M_r256'][first_col:last_col], label=r'Langevin-I, $\\nabla_{\\boldsymbol r}^\\text{sp}$, [$256^3$]', **next(lineplot_kwargs))\n",
    "ax = sns.lineplot(data=langevin_dict['P3M_FDgrad_r256'][first_col:last_col], label=r'Langevin-I, $\\nabla_{\\boldsymbol r}^\\text{fd}$, [$256^3$]', **next(lineplot_kwargs))\n",
    "ax = sns.lineplot(data=langevin_dict['r256'][first_col:last_col], label=r'Langevin-II, $\\nabla_{\\boldsymbol r}^\\text{sp}$, [$256^3$]', **next(lineplot_kwargs))\n",
    "ax = sns.lineplot(data=langevin_dict['FDgrad_r256'][first_col:last_col], label=r'Langevin-II, $\\nabla_{\\boldsymbol r}^\\text{fd}$, [$256^3$]', **next(lineplot_kwargs))\n",
    "\n",
    "prepare_emittance_plots(ax, x_axis_label, y_axis_label, legend_loc='top', bbox_to_anchor=(0.5, 1.55))\n",
    "\n",
    "# fig.savefig(figure_dir+f'/test.pdf', bbox_inches = \"tight\")"
   ]
  },
  {
   "cell_type": "markdown",
   "id": "a80502cd-2b37-4494-9d07-0e38e0af03b3",
   "metadata": {},
   "source": [
    "### Analysis over long time periods (=25$\\tau_p$)"
   ]
  },
  {
   "cell_type": "code",
   "execution_count": null,
   "id": "e6b3f5fe-1f7d-4f7d-a934-b0fea974cc29",
   "metadata": {
    "tags": []
   },
   "outputs": [],
   "source": [
    "first_col = 1\n",
    "last_col = -1\n",
    "\n",
    "key_name = 'NepsX'\n",
    "\n",
    "x_axis_label = 'Plasma Period $\\\\tau_p$'\n",
    "y_axis_label = '$\\\\varepsilon_{x,n}$ $[\\\\textnormal{nm}]$'\n",
    "\n",
    "fig, ax = plt.subplots()\n",
    "\n",
    "# Lineplot Kwargs\n",
    "lineplot_kwargs_dict['ax'] = ax\n",
    "lineplot_kwargs_dict['x'] = 'tau_p'\n",
    "lineplot_kwargs_dict['y'] = key_name\n",
    "\n",
    "lineplot_kwargs = line_properties_generator(lineplot_kwargs_dict)\n",
    "size_params = SizeParams()\n",
    "\n",
    "ax = sns.lineplot(data=p3m_dict['rc=0.0'][first_col:last_col], label='Ulmer, $r_c=0$, [$256^3$]', **next(lineplot_kwargs))\n",
    "# ax = sns.lineplot(data=langevin_dict['P3M_r256_5000it'][first_col:last_col], label=r'Langevin-I, $\\nabla_{\\boldsymbol r}^\\text{sp}$, [$256^3$]', **next(lineplot_kwargs))\n",
    "ax = sns.lineplot(data=langevin_dict['P3M_r256'][first_col:last_col], label=r'Langevin-I, $\\nabla_{\\boldsymbol r}^\\text{sp}, \\alpha=1e6$, [$256^3$]', **next(lineplot_kwargs))\n",
    "ax = sns.lineplot(data=langevin_dict['P3M_r256_ulmerAlpha'][first_col:last_col], label=r'Langevin-I, $\\nabla_{\\boldsymbol r}^\\text{sp}, \\alpha=6400$, [$256^3$]', **next(lineplot_kwargs))\n",
    "\n",
    "\n",
    "prepare_emittance_plots(ax, x_axis_label, y_axis_label, legend_loc='top', bbox_to_anchor=(0.5, 1.55))\n",
    "\n",
    "ax.set_xlabel(r'\\text{Plasma Period} $\\tau_p$')\n",
    "\n",
    "# fig.savefig(figure_dir+f'/test.pdf', bbox_inches = \"tight\")"
   ]
  },
  {
   "cell_type": "code",
   "execution_count": null,
   "id": "523162a6-63b3-4b57-92f2-3f76a1fc0c83",
   "metadata": {},
   "outputs": [],
   "source": []
  }
 ],
 "metadata": {
  "kernelspec": {
   "display_name": "Python 3 (ipykernel)",
   "language": "python",
   "name": "python3"
  },
  "language_info": {
   "codemirror_mode": {
    "name": "ipython",
    "version": 3
   },
   "file_extension": ".py",
   "mimetype": "text/x-python",
   "name": "python",
   "nbconvert_exporter": "python",
   "pygments_lexer": "ipython3",
   "version": "3.11.3"
  }
 },
 "nbformat": 4,
 "nbformat_minor": 5
}
