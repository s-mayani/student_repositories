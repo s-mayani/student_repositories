{
 "cells": [
  {
   "cell_type": "code",
   "execution_count": null,
   "id": "4d84750d",
   "metadata": {
    "tags": []
   },
   "outputs": [],
   "source": [
    "import os\n",
    "import sys\n",
    "\n",
    "import numpy as np\n",
    "import pandas as pd\n",
    "import matplotlib.pyplot as plt\n",
    "\n",
    "# Load plotting style\n",
    "sys.path.append('/home/tobiac/polybox/studium/mscThesis/personal_repo/data_visualization/src')\n",
    "from mscPlotting import set_plotting_environment, line_properties_generator, SizeParams\n",
    "set_plotting_environment()\n",
    "\n",
    "# Load convergence plot tools\n",
    "from mscPlotting import prepare_convergence_plots, prepare_asymptotic_plots, order_lines, order_exp\n",
    "\n",
    "# Lineplot Kwargs specific to this Notebook\n",
    "lineplot_kwargs_dict = {\n",
    "                   'logx' : True, \n",
    "                   'logy' : True, \n",
    "                   'linewidth':(0.9),\n",
    "                   'color' : None,\n",
    "                   'markers':False,\n",
    "                   'markersize':7,\n",
    "                   'markevery':6e-2}\n",
    "\n",
    "figure_dir = '/home/tobiac/polybox/studium/mscThesis/personal_repo/report/figures/tmp/'"
   ]
  },
  {
   "cell_type": "markdown",
   "id": "5293904c-7b6f-4c1b-abac-b66f28668890",
   "metadata": {
    "tags": []
   },
   "source": [
    "# Templated Hessian"
   ]
  },
  {
   "cell_type": "code",
   "execution_count": null,
   "id": "def5a97f-ab8d-41e0-b0b1-d0e0d7821037",
   "metadata": {
    "tags": []
   },
   "outputs": [],
   "source": [
    "error_dict_tobia = {\"mixed\" : pd.read_csv(\"error_gaussian_mixed.csv\"),\n",
    "            \"centered\" : pd.read_csv(\"error_gaussian_centered.csv\"),\n",
    "            \"forward\" : pd.read_csv(\"error_gaussian_forward.csv\")}\n",
    "error_dict_tobia[\"mixed\"]"
   ]
  },
  {
   "cell_type": "markdown",
   "id": "36f34516-007b-4db4-beb5-45dbbd7fcdc2",
   "metadata": {},
   "source": [
    "### Hessian Matrix average comparison of different stencils"
   ]
  },
  {
   "cell_type": "code",
   "execution_count": null,
   "id": "f94a1a76-8659-4c7e-9cce-19048a62cc52",
   "metadata": {
    "tags": []
   },
   "outputs": [],
   "source": [
    "fig, ax = plt.subplots()\n",
    "\n",
    "# Restart generator object for each plot and add current axis\n",
    "lineplot_kwargs_dict['ax'] = ax\n",
    "lineplot_kwargs = line_properties_generator(lineplot_kwargs_dict)\n",
    "\n",
    "first_ycol = 'forward'\n",
    "\n",
    "cols = next(iter(error_dict_tobia.values())).columns\n",
    "y_max = 100.0\n",
    "for key, err_df in error_dict_tobia.items():\n",
    "    ax.loglog(err_df[cols[0]], err_df[cols[1]], marker=\".\", markersize=12)\n",
    "    y_max = max(err_df[cols[1]].max(), y_max)\n",
    "\n",
    "cols = next(iter(error_dict_tobia.values())).columns\n",
    "sizes = error_dict_tobia[\"mixed\"][cols[0]]\n",
    "y0 = error_dict_tobia[\"forward\"][cols[1]][0]\n",
    "intercepts = [y0, y0]\n",
    "slopes = [1.0, 2.0]\n",
    "order_lines(ax, sizes, intercepts, slopes)\n",
    "\n",
    "\n",
    "labels = [r'mixed', r'centered', r'forward',  r'$1^{\\text{st}}$ Order', r'$2^{\\text{nd}}$ Order']\n",
    "\n",
    "prepare_asymptotic_plots(ax, error_dict_tobia[\"mixed\"][cols[0]], labels)\n",
    "\n",
    "# plt.savefig(figure_dir + 'customHessian_convergence.pdf', dpi=200, bbox_inches=\"tight\")"
   ]
  },
  {
   "cell_type": "markdown",
   "id": "38424847-c21f-4f32-97f2-9ee2a82239af",
   "metadata": {},
   "source": [
    "## Individual Matrix Elements"
   ]
  },
  {
   "cell_type": "code",
   "execution_count": null,
   "id": "f633ea1f-fa81-4288-816f-860d89c3fae1",
   "metadata": {
    "tags": []
   },
   "outputs": [],
   "source": [
    "def abline(ax, slope, intercept=None):\n",
    "    \"\"\"Plot a line from slope and intercept\"\"\"\n",
    "    x_vals = np.array(ax.get_xlim())\n",
    "\n",
    "    if intercept is None:\n",
    "        intercept = ax.get_ylim()[1] - slope * x_vals[1]\n",
    "    y_vals = intercept + slope * x_vals\n",
    "    ax.plot(x_vals, y_vals, '--')"
   ]
  },
  {
   "cell_type": "code",
   "execution_count": null,
   "id": "6c4bcad5-599c-4c4f-91ab-179c61f36347",
   "metadata": {
    "tags": []
   },
   "outputs": [],
   "source": [
    "def order_lines(sizes, intercepts, slopes, ax):\n",
    "    for intercept, slope in zip(intercepts, slopes):\n",
    "        order = np.zeros(len(sizes))\n",
    "        factor = intercept*(sizes[0]**slope)\n",
    "        for i, elem in enumerate(sizes):\n",
    "            order[i] = factor/(elem**slope)\n",
    "\n",
    "        plt.plot(sizes, order, '--')"
   ]
  },
  {
   "cell_type": "code",
   "execution_count": null,
   "id": "e6687b05-4f13-48df-ba7a-f109400fa175",
   "metadata": {},
   "outputs": [],
   "source": [
    "cols = next(iter(error_dict_tobia.values())).columns\n",
    "fig, ax = plt.subplots()\n",
    "\n",
    "col_selection = [2, 3, 4]\n",
    "for col in col_selection:\n",
    "    error_dict_tobia[\"mixed\"].plot(x=cols[0], y=cols[col], ax=ax, marker=\".\", markersize=12)\n",
    "\n",
    "ax.set_xscale(\"log\")\n",
    "ax.set_yscale(\"log\")\n",
    "\n",
    "sizes = error_dict_tobia[\"mixed\"][cols[0]]\n",
    "y0 = error_dict_tobia[\"mixed\"][cols[2]][0]\n",
    "intercepts = [y0, y0]\n",
    "slopes = [1.0, 2.0]\n",
    "order_lines(sizes, intercepts, slopes, ax)\n",
    "\n",
    "plt.xlabel(f\"Gridsize $N$\", fontsize=12)\n",
    "plt.ylabel(\"Average Relative Error\", fontsize=12)\n",
    "plt.title(\"Hessian operator on Gaussian in 3D\", fontsize=14)\n",
    "plt.legend([*error_dict_tobia[\"centered\"].keys()[col_selection], \"2nd Order\", \"1st Order\"], fontsize=12)\n",
    "plt.grid()\n",
    "# plt.savefig('./gaussian_els.pdf', dpi=200, bbox_inches=\"tight\")"
   ]
  }
 ],
 "metadata": {
  "kernelspec": {
   "display_name": "Python 3 (ipykernel)",
   "language": "python",
   "name": "python3"
  },
  "language_info": {
   "codemirror_mode": {
    "name": "ipython",
    "version": 3
   },
   "file_extension": ".py",
   "mimetype": "text/x-python",
   "name": "python",
   "nbconvert_exporter": "python",
   "pygments_lexer": "ipython3",
   "version": "3.11.3"
  }
 },
 "nbformat": 4,
 "nbformat_minor": 5
}
