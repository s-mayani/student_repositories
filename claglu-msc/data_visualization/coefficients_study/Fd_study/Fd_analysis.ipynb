{
 "cells": [
  {
   "cell_type": "markdown",
   "id": "3f99613a-4ea3-47ce-8de9-d7d036b4afa4",
   "metadata": {
    "tags": []
   },
   "source": [
    "# This notebook allows analyzing the friction coefficients (Additionally also `D` over time)"
   ]
  },
  {
   "cell_type": "code",
   "execution_count": null,
   "id": "29c0fa4f-21ee-44e0-bea8-12fb3e38f121",
   "metadata": {
    "tags": []
   },
   "outputs": [],
   "source": [
    "import sys\n",
    "\n",
    "import numpy as np\n",
    "import pandas as pd\n",
    "import matplotlib.pyplot as plt\n",
    "\n",
    "# Load plotting style\n",
    "sys.path.append('/home/tobiac/polybox/studium/mscThesis/personal_repo/data_visualization/src')\n",
    "from mscPlotting import set_plotting_environment, line_properties_generator, SizeParams, prepare_emittance_plots\n",
    "set_plotting_environment()\n",
    "\n",
    "# Load convergence plot tools\n",
    "from mscPlotting import prepare_asymptotic_plots, order_lines, order_exp\n",
    "\n",
    "# Lineplot Kwargs specific to this Notebook\n",
    "lineplot_kwargs_dict = {\n",
    "                   'logx' : True,\n",
    "                   'logy' : True, \n",
    "                   'color' : None}\n",
    "\n",
    "figure_dir = '/home/tobiac/polybox/studium/mscThesis/personal_repo/report/figures/tmp/'"
   ]
  },
  {
   "cell_type": "markdown",
   "id": "2f18afca-d068-450d-b235-ade69d692044",
   "metadata": {},
   "source": [
    "## Plot the distribution of friction coefficient `Fd` for both DIH case and testcase"
   ]
  },
  {
   "cell_type": "code",
   "execution_count": null,
   "id": "f7da4941-b467-4048-a171-32dbd7f33b40",
   "metadata": {
    "tags": []
   },
   "outputs": [],
   "source": [
    "Fd_dict = {\"testPotentials\" : pd.read_csv(\"FdNorm_it0064_testPotentials.csv\"),\n",
    "          \"DIH\" : pd.read_csv(\"FdNorm_it1199_DIH.csv\")}\n",
    "for key, df in Fd_dict.items():\n",
    "    Fd_dict[key] = df.sort_values('v', inplace=False).drop_duplicates(subset='v')\n",
    "    \n",
    "    \n",
    "    # Normalize x- and y-axis\n",
    "    Fd_dict[key]['Fd/v'] /= Fd_dict[key]['Fd/v'].max()\n",
    "    Fd_dict[key]['v'] /= Fd_dict[key]['v'].max()"
   ]
  },
  {
   "cell_type": "code",
   "execution_count": null,
   "id": "8a573aae-6d17-4b9e-b5b5-ecc426d1a4e3",
   "metadata": {
    "tags": []
   },
   "outputs": [],
   "source": [
    "fig, ax = plt.subplots()\n",
    "\n",
    "# Restart generator object for each plot and add current axis\n",
    "lineplot_kwargs_dict['ax'] = ax\n",
    "lineplot_kwargs_dict.pop('markersize', None)\n",
    "\n",
    "lineplot_kwargs = line_properties_generator(lineplot_kwargs_dict)\n",
    "\n",
    "# Load DIH sample\n",
    "df = Fd_dict['DIH']\n",
    "df.plot('v', 'Fd/v', kind='line', **next(lineplot_kwargs))\n",
    "\n",
    "# Load Gaussian test case sample\n",
    "df = Fd_dict['testPotentials']\n",
    "df.plot('v', 'Fd/v', kind='line', **next(lineplot_kwargs))\n",
    "\n",
    "first_ycol = 'Fd/v'\n",
    "cols = df.columns\n",
    "sizes = df[cols[0]].to_numpy()\n",
    "y0 = df[first_ycol].iloc[0] + 35*df[first_ycol].iloc[0]\n",
    "# y0 = df[first_ycol].to_numpy()[0]\n",
    "intercepts = [y0]\n",
    "slopes = [3.0]\n",
    "order_lines(ax, sizes, intercepts, slopes)\n",
    "\n",
    "x_label = r'$v$'\n",
    "y_label = r'${\\|\\boldsymbol F_d\\|}_2 / v$'\n",
    "\n",
    "labels = ['DIH', 'Gaussian',r'$3^{\\text{rd}}$ Order']\n",
    "prepare_asymptotic_plots(ax, df['v'].to_numpy(), labels, x_label, y_label)\n",
    "\n",
    "# ax.legend().remove()\n",
    "\n",
    "# plt.savefig(figure_dir+f'Fd_asymptotic.pdf', bbox_inches=\"tight\")"
   ]
  },
  {
   "cell_type": "markdown",
   "id": "564f69d6-6c73-47f7-9916-113738a14f8d",
   "metadata": {},
   "source": [
    "## Average Fd & D over time given `collision_statistics_0.csv` file"
   ]
  },
  {
   "cell_type": "code",
   "execution_count": null,
   "id": "fe8e14ee-0f70-42b6-805a-54ae1b68b80e",
   "metadata": {
    "tags": []
   },
   "outputs": [],
   "source": [
    "collision_data = pd.read_csv(\"../../langevin_study/langevin_data/submission_data/langevin_P3M_Fd_D_r256_v64_vico_0712_1412/collision_statistics_0.csv\").iloc[:1000]\n",
    "FdAvg = collision_data['FdAvg'].to_numpy()\n",
    "\n",
    "collision_data.insert(1, 'time', collision_data['iteration'].apply(lambda x: float(x)*2.15623e-13)) # [s]\n",
    "collision_data.insert(2, 'tau_p', collision_data['time'].apply(lambda x: float(x)/4.3114e-11)) # [s]\n",
    "\n",
    "collision_data.columns"
   ]
  },
  {
   "cell_type": "code",
   "execution_count": null,
   "id": "a6ba3c39-4e33-4f4d-8295-756cd3aa362d",
   "metadata": {
    "tags": []
   },
   "outputs": [],
   "source": [
    "clip_time = 20"
   ]
  },
  {
   "cell_type": "code",
   "execution_count": null,
   "id": "4f2ae53d-7940-4667-84de-8c01be86e9a9",
   "metadata": {
    "tags": []
   },
   "outputs": [],
   "source": [
    "fig, ax = plt.subplots()\n",
    "\n",
    "lineplot_kwargs = line_properties_generator(lineplot_kwargs_dict)\n",
    "size_params = SizeParams()\n",
    "\n",
    "# Lineplot Kwargs\n",
    "local_kwargs = lineplot_kwargs_dict.copy()\n",
    "lineplot_kwargs_dict['ax'] = ax\n",
    "lineplot_kwargs_dict['x'] = 'tau_p'\n",
    "lineplot_kwargs_dict['logx'] = False\n",
    "lineplot_kwargs_dict['logy'] = False\n",
    "\n",
    "collision_data[:].plot(y='FdAvg', **next(lineplot_kwargs))\n",
    "\n",
    "x_axis_label = r'Plasma Period $\\tau_p$'\n",
    "y_axis_label = r'$\\langle F_d \\rangle \\  [cm/s^2]$'\n",
    "\n",
    "prepare_emittance_plots(ax, x_axis_label, y_axis_label, legend_loc='top', bbox_to_anchor=(0.5, 1.45), plot_limit=False)\n",
    "\n",
    "ax.get_legend().remove()\n",
    "\n",
    "# plt.savefig(figure_dir+f'Fd_avg.pdf', bbox_inches=\"tight\")"
   ]
  },
  {
   "cell_type": "code",
   "execution_count": null,
   "id": "d99af793-ba5a-46d7-8e06-200a8418fec2",
   "metadata": {
    "tags": []
   },
   "outputs": [],
   "source": [
    "fig, ax = plt.subplots()\n",
    "\n",
    "lineplot_kwargs = line_properties_generator(lineplot_kwargs_dict)\n",
    "size_params = SizeParams()\n",
    "\n",
    "# Lineplot Kwargs\n",
    "local_kwargs = lineplot_kwargs_dict.copy()\n",
    "lineplot_kwargs_dict['ax'] = ax\n",
    "lineplot_kwargs_dict['x'] = 'tau_p'\n",
    "lineplot_kwargs_dict['logx'] = False\n",
    "lineplot_kwargs_dict['logy'] = True\n",
    "\n",
    "# All coefficients\n",
    "collision_data[clip_time:].plot(y='D0Avg_x', label=r'$\\boldsymbol D_{xx}$', **next(lineplot_kwargs))\n",
    "collision_data[clip_time:].plot(y='D0Avg_y', label=r'$\\boldsymbol D_{xy}$', **next(lineplot_kwargs))\n",
    "collision_data[clip_time:].plot(y='D0Avg_z', label=r'$\\boldsymbol D_{xz}$', **next(lineplot_kwargs))\n",
    "collision_data[clip_time:].plot(y='D1Avg_z', label=r'$\\boldsymbol D_{yz}$', **next(lineplot_kwargs))\n",
    "\n",
    "# Diagonal elements\n",
    "# collision_data[clip_time:].plot(y='D0Avg_x', label=r'$\\boldsymbol D_{xx}$', **next(lineplot_kwargs))\n",
    "# collision_data[clip_time:].plot(y='D1Avg_y', label=r'$\\boldsymbol D_{yy}$', **next(lineplot_kwargs))\n",
    "# collision_data[clip_time:].plot(y='D2Avg_z', label=r'$\\boldsymbol D_{zz}$', **next(lineplot_kwargs))\n",
    "\n",
    "x_axis_label = r'Plasma Period $\\tau_p$'\n",
    "y_axis_label = r'$\\langle |\\boldsymbol D_{\\circ\\circ}| \\rangle \\  [cm^2/s^4]$'\n",
    "\n",
    "prepare_emittance_plots(ax, x_axis_label, y_axis_label, legend_loc='top', bbox_to_anchor=(0.5, 1.22), plot_limit=False, ncol=4)\n",
    "\n",
    "# plt.savefig(figure_dir+f'D_avg.pdf', bbox_inches=\"tight\")"
   ]
  },
  {
   "cell_type": "code",
   "execution_count": null,
   "id": "45ae9e7c-6147-4dea-a082-3a6951731750",
   "metadata": {},
   "outputs": [],
   "source": []
  }
 ],
 "metadata": {
  "kernelspec": {
   "display_name": "Python 3 (ipykernel)",
   "language": "python",
   "name": "python3"
  },
  "language_info": {
   "codemirror_mode": {
    "name": "ipython",
    "version": 3
   },
   "file_extension": ".py",
   "mimetype": "text/x-python",
   "name": "python",
   "nbconvert_exporter": "python",
   "pygments_lexer": "ipython3",
   "version": "3.11.3"
  }
 },
 "nbformat": 4,
 "nbformat_minor": 5
}
