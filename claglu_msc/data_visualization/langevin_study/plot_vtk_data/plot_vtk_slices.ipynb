{
 "cells": [
  {
   "cell_type": "code",
   "execution_count": null,
   "id": "57625fda-874f-4d8d-9e47-89a7d7ccf98d",
   "metadata": {
    "tags": []
   },
   "outputs": [],
   "source": [
    "import numpy as np\n",
    "import vtk\n",
    "import matplotlib.pyplot as plt\n",
    "import meshio\n",
    "\n",
    "test_vector_file = '../langevin_data/submission_data/langevin_P3M_Fd_D_r256_v64_vico_0712_1412/F_d_it1199.vtk'"
   ]
  },
  {
   "cell_type": "markdown",
   "id": "b209ef88-47ca-42f7-9cbf-d128f657f1f8",
   "metadata": {
    "tags": []
   },
   "source": [
    "### Load VTK file"
   ]
  },
  {
   "cell_type": "code",
   "execution_count": null,
   "id": "d82b13bb-6ece-4f40-844b-eae7be88f164",
   "metadata": {
    "tags": []
   },
   "outputs": [],
   "source": [
    "mesh = meshio.read(test_vector_file)"
   ]
  },
  {
   "cell_type": "code",
   "execution_count": null,
   "id": "97fdddb3-854a-4113-b5dc-f0054725416b",
   "metadata": {
    "tags": []
   },
   "outputs": [],
   "source": [
    "Fd_data = mesh.cell_data['F_d'][0].reshape(64,64,64,-1)[...,32,:]\n",
    "Fd_data.shape"
   ]
  },
  {
   "cell_type": "markdown",
   "id": "7599b89d-0aeb-4e51-b3dc-b581b9e2a12e",
   "metadata": {},
   "source": [
    "### Plot xy-slice at z=32 "
   ]
  },
  {
   "cell_type": "code",
   "execution_count": null,
   "id": "5e86dba3-c994-4389-b053-cf43c90fbb66",
   "metadata": {
    "tags": []
   },
   "outputs": [],
   "source": [
    "fig, ax = plt.subplots()\n",
    "\n",
    "aximage = ax.imshow(Fd_data[...,0])\n",
    "\n",
    "fig.colorbar(aximage)"
   ]
  },
  {
   "cell_type": "markdown",
   "id": "aa25a3e5-8f93-41cb-9ca1-133c0eb3ef3b",
   "metadata": {},
   "source": [
    "### Get a line plot through the slice"
   ]
  },
  {
   "cell_type": "code",
   "execution_count": null,
   "id": "dd6f9b73-5f44-4d07-8694-619097f6bb80",
   "metadata": {
    "tags": []
   },
   "outputs": [],
   "source": [
    "# Plot line through origin\n",
    "y = Fd_data[:,32]\n",
    "\n",
    "vmax = 5e7\n",
    "xcoords = np.arange(-vmax, vmax, 2*vmax/y.shape[0])\n",
    "\n",
    "y.shape"
   ]
  },
  {
   "cell_type": "code",
   "execution_count": null,
   "id": "6a32e9fb-20a1-44d6-97d1-95af4513638d",
   "metadata": {},
   "outputs": [],
   "source": [
    "fig, ax = plt.subplots()\n",
    "\n",
    "ax.plot(xcoords, y)"
   ]
  },
  {
   "cell_type": "code",
   "execution_count": null,
   "id": "5de35ea2-2264-47ca-8ac1-c2433c7e04c5",
   "metadata": {
    "tags": []
   },
   "outputs": [],
   "source": [
    "mesh.cell_data['F_d'][0].reshape(64,64,64,-1)[:,:,31,:].shape"
   ]
  },
  {
   "cell_type": "markdown",
   "id": "1e8082e6-3038-4cb5-8046-e44c02e41faa",
   "metadata": {},
   "source": [
    "## Plot velocity density distribution at t=5tau_p"
   ]
  },
  {
   "cell_type": "code",
   "execution_count": null,
   "id": "45c7b6c7-fe5c-44e3-b217-954a007abea9",
   "metadata": {
    "tags": []
   },
   "outputs": [],
   "source": [
    "fv_file = '../langevin_data/submission_data/langevin_P3M_Fd_D_r256_v64_vico_0712_1412/fv_it1199.vtk'\n",
    "mesh = meshio.read(fv_file)\n",
    "\n",
    "fv_data = mesh.cell_data['fv'][0].reshape(64,64,64,-1)[...,32,:]"
   ]
  },
  {
   "cell_type": "code",
   "execution_count": null,
   "id": "4537b08c-2e4b-44bc-af7b-9a5c13ce5425",
   "metadata": {
    "tags": []
   },
   "outputs": [],
   "source": [
    "fig, ax = plt.subplots()\n",
    "\n",
    "aximage = ax.imshow(fv_data[...,0])\n",
    "\n",
    "fig.colorbar(aximage)"
   ]
  },
  {
   "cell_type": "code",
   "execution_count": null,
   "id": "fd5d279c-e95f-456e-83a3-d2576eaa2e1b",
   "metadata": {
    "tags": []
   },
   "outputs": [],
   "source": [
    "y = fv_data[:,32]\n",
    "\n",
    "vmax = 5e7\n",
    "xcoords = np.arange(-vmax, vmax, 2*vmax/y.shape[0])\n",
    "\n",
    "fig, ax = plt.subplots()\n",
    "\n",
    "ax.plot(xcoords, y)"
   ]
  }
 ],
 "metadata": {
  "kernelspec": {
   "display_name": "Python 3 (ipykernel)",
   "language": "python",
   "name": "python3"
  },
  "language_info": {
   "codemirror_mode": {
    "name": "ipython",
    "version": 3
   },
   "file_extension": ".py",
   "mimetype": "text/x-python",
   "name": "python",
   "nbconvert_exporter": "python",
   "pygments_lexer": "ipython3",
   "version": "3.11.3"
  }
 },
 "nbformat": 4,
 "nbformat_minor": 5
}
