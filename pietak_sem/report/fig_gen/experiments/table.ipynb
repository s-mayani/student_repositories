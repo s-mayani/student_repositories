{
 "cells": [
  {
   "cell_type": "code",
   "execution_count": 1,
   "id": "e37e4ef3",
   "metadata": {},
   "outputs": [],
   "source": [
    "import numpy as np"
   ]
  },
  {
   "cell_type": "code",
   "execution_count": 7,
   "id": "6c462c74",
   "metadata": {},
   "outputs": [],
   "source": [
    "numbers = [\n",
    "   0.1167789263889172,\n",
    "  0.06013408978003864,\n",
    "  0.02961058536698228,\n",
    "  0.01514234098660519,\n",
    " 0.007682496590421811,\n",
    "  0.00388429168476538,\n",
    " 0.001955370388312652,\n",
    "0.0009833309928405003,\n",
    "0.0004931618569478784,\n",
    "0.0002473582625837324,\n",
    "0.0001238285511759149,\n",
    "6.184139519982705e-05,\n",
    "3.095767834143028e-05\n",
    "]"
   ]
  },
  {
   "cell_type": "code",
   "execution_count": 8,
   "id": "25488c1d",
   "metadata": {},
   "outputs": [
    {
     "name": "stdout",
     "output_type": "stream",
     "text": [
      "1.168e-01\n",
      "6.013e-02\n",
      "2.961e-02\n",
      "1.514e-02\n",
      "7.682e-03\n",
      "3.884e-03\n",
      "1.955e-03\n",
      "9.833e-04\n",
      "4.932e-04\n",
      "2.474e-04\n",
      "1.238e-04\n",
      "6.184e-05\n",
      "3.096e-05\n"
     ]
    }
   ],
   "source": [
    "for n in numbers:\n",
    "    print(f\"{n:0.3e}\")"
   ]
  },
  {
   "cell_type": "code",
   "execution_count": 14,
   "id": "4356bfab",
   "metadata": {},
   "outputs": [
    {
     "name": "stdout",
     "output_type": "stream",
     "text": [
      "2.293e-02\n",
      "9.764e-03\n",
      "4.218e-03\n",
      "1.840e-03\n",
      "8.077e-04\n",
      "3.590e-04\n",
      "1.596e-04\n",
      "7.091e-05\n"
     ]
    }
   ],
   "source": [
    "for n in numbers2:\n",
    "    print(f\"{n:0.3e}\")"
   ]
  }
 ],
 "metadata": {
  "kernelspec": {
   "display_name": "Python 3",
   "language": "python",
   "name": "python3"
  },
  "language_info": {
   "codemirror_mode": {
    "name": "ipython",
    "version": 3
   },
   "file_extension": ".py",
   "mimetype": "text/x-python",
   "name": "python",
   "nbconvert_exporter": "python",
   "pygments_lexer": "ipython3",
   "version": "3.10.12"
  }
 },
 "nbformat": 4,
 "nbformat_minor": 5
}
